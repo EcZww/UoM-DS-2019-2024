{
 "cells": [
  {
   "cell_type": "markdown",
   "id": "cb1867a7-d4cf-4177-9d50-f6cd6f907497",
   "metadata": {
    "tags": []
   },
   "source": [
    "### Linear Regression"
   ]
  },
  {
   "cell_type": "code",
   "execution_count": 1,
   "id": "b4dbe310-1472-4e4f-8e10-07f2ea977587",
   "metadata": {
    "execution": {
     "iopub.execute_input": "2022-05-28T15:42:09.236139Z",
     "iopub.status.busy": "2022-05-28T15:42:09.235467Z",
     "iopub.status.idle": "2022-05-28T15:42:09.382821Z",
     "shell.execute_reply": "2022-05-28T15:42:09.381992Z",
     "shell.execute_reply.started": "2022-05-28T15:42:09.236070Z"
    }
   },
   "outputs": [],
   "source": [
    "import numpy as np"
   ]
  },
  {
   "cell_type": "code",
   "execution_count": 2,
   "id": "2412d497-30d1-4c8b-accf-ffafed47d879",
   "metadata": {
    "execution": {
     "iopub.execute_input": "2022-05-28T15:43:05.016007Z",
     "iopub.status.busy": "2022-05-28T15:43:05.015270Z",
     "iopub.status.idle": "2022-05-28T15:43:05.018959Z",
     "shell.execute_reply": "2022-05-28T15:43:05.018432Z",
     "shell.execute_reply.started": "2022-05-28T15:43:05.015981Z"
    }
   },
   "outputs": [],
   "source": [
    "def r2_score(y_true, y_pred):\n",
    "    corr_matrix = np.corrcoef(y_true, y_pred)\n",
    "    corr = corr_matrix[0, 1]\n",
    "    return np.power(corr, 2)"
   ]
  },
  {
   "cell_type": "code",
   "execution_count": 28,
   "id": "a048ebfd-1ad2-4e01-9d2e-ef9f87e9bbb0",
   "metadata": {
    "execution": {
     "iopub.execute_input": "2022-05-28T15:50:02.624643Z",
     "iopub.status.busy": "2022-05-28T15:50:02.624202Z",
     "iopub.status.idle": "2022-05-28T15:50:02.629541Z",
     "shell.execute_reply": "2022-05-28T15:50:02.628917Z",
     "shell.execute_reply.started": "2022-05-28T15:50:02.624625Z"
    },
    "tags": []
   },
   "outputs": [],
   "source": [
    "class LinearRegression:\n",
    "    def __init__(self, learning_rate=0.001, n_iters=1000):\n",
    "        self.lr = learning_rate\n",
    "        self.n_iters = n_iters\n",
    "        self.weights = None\n",
    "        self.bias = None\n",
    "    \n",
    "    def fit(self, X, y):\n",
    "        n_samples, n_features = X.shape\n",
    "        \n",
    "        # init parameters\n",
    "        self.weights = np.zeros(n_features)\n",
    "        self.bias = 0\n",
    "        \n",
    "        # gradient descent\n",
    "        for _ in range(self.n_iters):\n",
    "            y_predicted = np.dot(X, self.weights) + self.bias\n",
    "            \n",
    "            # compute gradients\n",
    "            dw = (1 / n_samples) * np.dot(X.T, (y_predicted - y))\n",
    "            db = (1 / n_samples) * np.sum(y_predicted - y)\n",
    "            \n",
    "            # update parameters\n",
    "            self.weights -= self.lr * dw\n",
    "            self.bias -= self.lr * db\n",
    "            \n",
    "    def predict(self, X):\n",
    "        return np.dot(X, self.weights) + self.bias"
   ]
  },
  {
   "cell_type": "code",
   "execution_count": 44,
   "id": "981e7559-a598-4772-b01c-dc33779f4e48",
   "metadata": {
    "execution": {
     "iopub.execute_input": "2022-05-28T15:52:07.701958Z",
     "iopub.status.busy": "2022-05-28T15:52:07.701261Z",
     "iopub.status.idle": "2022-05-28T15:52:07.705123Z",
     "shell.execute_reply": "2022-05-28T15:52:07.704503Z",
     "shell.execute_reply.started": "2022-05-28T15:52:07.701933Z"
    },
    "tags": []
   },
   "outputs": [],
   "source": [
    "import matplotlib.pyplot as plt\n",
    "from sklearn.model_selection import train_test_split\n",
    "from sklearn import datasets\n",
    "\n",
    "def mean_squared_error(y_true, y_pred):\n",
    "    return np.mean(np.power((y_true - y_pred), 2))"
   ]
  },
  {
   "cell_type": "code",
   "execution_count": 30,
   "id": "4d2178c1-648a-4020-b6b1-ecdf78538318",
   "metadata": {
    "execution": {
     "iopub.execute_input": "2022-05-28T15:50:03.047970Z",
     "iopub.status.busy": "2022-05-28T15:50:03.047433Z",
     "iopub.status.idle": "2022-05-28T15:50:03.052045Z",
     "shell.execute_reply": "2022-05-28T15:50:03.051440Z",
     "shell.execute_reply.started": "2022-05-28T15:50:03.047949Z"
    },
    "tags": []
   },
   "outputs": [],
   "source": [
    "X, y = datasets.make_regression(n_samples=100, n_features=1, noise=20, random_state=343)"
   ]
  },
  {
   "cell_type": "code",
   "execution_count": 31,
   "id": "86d9bcf3-9000-47a1-83dd-40991ac75f47",
   "metadata": {
    "execution": {
     "iopub.execute_input": "2022-05-28T15:50:03.206062Z",
     "iopub.status.busy": "2022-05-28T15:50:03.205606Z",
     "iopub.status.idle": "2022-05-28T15:50:03.210058Z",
     "shell.execute_reply": "2022-05-28T15:50:03.209408Z",
     "shell.execute_reply.started": "2022-05-28T15:50:03.206042Z"
    },
    "tags": []
   },
   "outputs": [],
   "source": [
    "X_train, X_test, y_train, y_test = train_test_split(X, y, test_size=0.2, random_state=3903)"
   ]
  },
  {
   "cell_type": "code",
   "execution_count": 32,
   "id": "ddd83db6-78aa-449e-bc47-903e830531b5",
   "metadata": {
    "execution": {
     "iopub.execute_input": "2022-05-28T15:50:03.374552Z",
     "iopub.status.busy": "2022-05-28T15:50:03.374005Z",
     "iopub.status.idle": "2022-05-28T15:50:03.388748Z",
     "shell.execute_reply": "2022-05-28T15:50:03.387928Z",
     "shell.execute_reply.started": "2022-05-28T15:50:03.374532Z"
    },
    "tags": []
   },
   "outputs": [],
   "source": [
    "regressor = LinearRegression(learning_rate=0.01, n_iters=1000)\n",
    "regressor.fit(X_train, y_train)"
   ]
  },
  {
   "cell_type": "code",
   "execution_count": 33,
   "id": "e63893da-e9bb-4ada-a983-9aeaa9a3e472",
   "metadata": {
    "execution": {
     "iopub.execute_input": "2022-05-28T15:50:16.651415Z",
     "iopub.status.busy": "2022-05-28T15:50:16.650891Z",
     "iopub.status.idle": "2022-05-28T15:50:16.654353Z",
     "shell.execute_reply": "2022-05-28T15:50:16.653773Z",
     "shell.execute_reply.started": "2022-05-28T15:50:16.651394Z"
    },
    "tags": []
   },
   "outputs": [],
   "source": [
    "predictions = regressor.predict(X_test)"
   ]
  },
  {
   "cell_type": "code",
   "execution_count": 34,
   "id": "fa13f756-1c03-418a-9f9a-ce8ebd300234",
   "metadata": {
    "execution": {
     "iopub.execute_input": "2022-05-28T15:51:04.920279Z",
     "iopub.status.busy": "2022-05-28T15:51:04.919836Z",
     "iopub.status.idle": "2022-05-28T15:51:04.926682Z",
     "shell.execute_reply": "2022-05-28T15:51:04.926004Z",
     "shell.execute_reply.started": "2022-05-28T15:51:04.920255Z"
    },
    "tags": []
   },
   "outputs": [
    {
     "name": "stdout",
     "output_type": "stream",
     "text": [
      "MSE: 573.9353122613409, R2: 0.8904048571803457\n"
     ]
    }
   ],
   "source": [
    "mse = mean_squared_error(y_test, predictions)\n",
    "acc = r2_score(y_test, predictions)\n",
    "print(f\"MSE: {mse}, R2: {acc}\")"
   ]
  },
  {
   "cell_type": "code",
   "execution_count": 45,
   "id": "9e273ccf-718f-4bbc-888c-5c3ca615d69c",
   "metadata": {
    "execution": {
     "iopub.execute_input": "2022-05-28T15:54:25.492640Z",
     "iopub.status.busy": "2022-05-28T15:54:25.492174Z",
     "iopub.status.idle": "2022-05-28T15:54:25.607736Z",
     "shell.execute_reply": "2022-05-28T15:54:25.607047Z",
     "shell.execute_reply.started": "2022-05-28T15:54:25.492619Z"
    }
   },
   "outputs": [
    {
     "data": {
      "image/png": "[encoded data removed]",
      "text/plain": [
       "<Figure size 576x432 with 1 Axes>"
      ]
     },
     "metadata": {
      "needs_background": "light"
     },
     "output_type": "display_data"
    }
   ],
   "source": [
    "y_pred_line = regressor.predict(X)\n",
    "cmap = plt.get_cmap(\"viridis\")\n",
    "fig = plt.figure(figsize=(8, 6))\n",
    "m1 = plt.scatter(X_train, y_train, color=cmap(0.9), s=10)\n",
    "m2 = plt.scatter(X_test, y_test, color=cmap(0.5), s=10)\n",
    "plt.plot(X, y_pred_line, color=\"black\", linewidth=2, label=\"Prediction\")\n",
    "plt.show()"
   ]
  },
  {
   "cell_type": "code",
   "execution_count": null,
   "id": "5420afca-9e64-4b1f-81cf-78e9ff6b7177",
   "metadata": {},
   "outputs": [],
   "source": []
  }
 ],
 "metadata": {
  "kernelspec": {
   "display_name": "Python 3 (ipykernel)",
   "language": "python",
   "name": "python3"
  },
  "language_info": {
   "codemirror_mode": {
    "name": "ipython",
    "version": 3
   },
   "file_extension": ".py",
   "mimetype": "text/x-python",
   "name": "python",
   "nbconvert_exporter": "python",
   "pygments_lexer": "ipython3",
   "version": "3.8.10"
  }
 },
 "nbformat": 4,
 "nbformat_minor": 5
}
