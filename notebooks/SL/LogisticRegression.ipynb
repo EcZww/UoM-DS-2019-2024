{
 "cells": [
  {
   "cell_type": "markdown",
   "id": "e910a401-7cb7-4565-a38e-d27d1d2a9a36",
   "metadata": {},
   "source": [
    "### Logistic Regression"
   ]
  },
  {
   "cell_type": "code",
   "execution_count": 1,
   "id": "cc0d2fde-2ec7-4c9f-bd6f-505765cbb562",
   "metadata": {
    "execution": {
     "iopub.execute_input": "2022-05-28T16:00:09.359149Z",
     "iopub.status.busy": "2022-05-28T16:00:09.358481Z",
     "iopub.status.idle": "2022-05-28T16:00:09.487980Z",
     "shell.execute_reply": "2022-05-28T16:00:09.485991Z",
     "shell.execute_reply.started": "2022-05-28T16:00:09.359037Z"
    }
   },
   "outputs": [],
   "source": [
    "import numpy as np"
   ]
  },
  {
   "cell_type": "code",
   "execution_count": 8,
   "id": "202467d9-5a20-4d1c-a917-64ad9fb210a9",
   "metadata": {
    "execution": {
     "iopub.execute_input": "2022-05-28T16:06:02.492060Z",
     "iopub.status.busy": "2022-05-28T16:06:02.491430Z",
     "iopub.status.idle": "2022-05-28T16:06:02.498598Z",
     "shell.execute_reply": "2022-05-28T16:06:02.497927Z",
     "shell.execute_reply.started": "2022-05-28T16:06:02.492026Z"
    },
    "tags": []
   },
   "outputs": [],
   "source": [
    "class LogisticRegression:\n",
    "    def __init__(self, learning_rate=0.001, n_iters=1000):\n",
    "        self.lr = learning_rate\n",
    "        self.n_iters = n_iters\n",
    "        self.weights = None\n",
    "        self.bias = None\n",
    "    \n",
    "    def fit(self, X, y):\n",
    "        n_samples, n_features = X.shape\n",
    "        \n",
    "        # init parameters\n",
    "        self.weights = np.zeros(n_features)\n",
    "        self.bias = 0\n",
    "        \n",
    "        for _ in range(self.n_iters):\n",
    "            # approximate y with linear combination of weigths and x, plus bias\n",
    "            linear_model = np.dot(X, self.weights) + self.bias\n",
    "            \n",
    "            # apply sigmoid function\n",
    "            y_predicted = self._sigmoid(linear_model)\n",
    "            \n",
    "            # compute gradients\n",
    "            dw = (1 / n_samples) * np.dot(X.T, (y_predicted - y))\n",
    "            db = (1 / n_samples) * np.sum(y_predicted - y)\n",
    "            \n",
    "            # upldate parameters\n",
    "            self.weights -= self.lr * dw\n",
    "            self.bias -= self.lr * db\n",
    "            \n",
    "    def predict(self, X):\n",
    "        linear_model = np.dot(X, self.weights) + self.bias\n",
    "        y_predicted = self._sigmoid(linear_model)\n",
    "        y_predicted_cls = [1 if i > 0.5 else 0 for i in y_predicted]\n",
    "        return np.array(y_predicted_cls)\n",
    "    \n",
    "    def _sigmoid(self, x):\n",
    "        return 1 / (1 + np.exp(-x))"
   ]
  },
  {
   "cell_type": "code",
   "execution_count": 4,
   "id": "948fbb2d-43b1-43de-bac8-06ca7281ad1d",
   "metadata": {
    "execution": {
     "iopub.execute_input": "2022-05-28T16:05:16.649727Z",
     "iopub.status.busy": "2022-05-28T16:05:16.649167Z",
     "iopub.status.idle": "2022-05-28T16:05:16.891787Z",
     "shell.execute_reply": "2022-05-28T16:05:16.891028Z",
     "shell.execute_reply.started": "2022-05-28T16:05:16.649694Z"
    }
   },
   "outputs": [],
   "source": [
    "from sklearn.model_selection import train_test_split\n",
    "from sklearn import datasets\n",
    "\n",
    "def accuracy(y_true, y_pred):\n",
    "    accuracy = np.sum(y_true == y_pred) / len(y_true)\n",
    "    return accuracy"
   ]
  },
  {
   "cell_type": "code",
   "execution_count": 6,
   "id": "8360bfef-e41b-4e77-b63b-02180cfc8a1c",
   "metadata": {
    "execution": {
     "iopub.execute_input": "2022-05-28T16:05:34.602995Z",
     "iopub.status.busy": "2022-05-28T16:05:34.602507Z",
     "iopub.status.idle": "2022-05-28T16:05:34.612186Z",
     "shell.execute_reply": "2022-05-28T16:05:34.611678Z",
     "shell.execute_reply.started": "2022-05-28T16:05:34.602972Z"
    },
    "tags": []
   },
   "outputs": [],
   "source": [
    "bc = datasets.load_breast_cancer()\n",
    "X, y = bc.data, bc.target\n",
    "\n",
    "X_train, X_test, y_train, y_test = train_test_split(X, y, test_size=0.2, random_state=1262)"
   ]
  },
  {
   "cell_type": "code",
   "execution_count": 9,
   "id": "11923633-9a31-4585-ae47-181022ab219a",
   "metadata": {
    "execution": {
     "iopub.execute_input": "2022-05-28T16:06:03.702778Z",
     "iopub.status.busy": "2022-05-28T16:06:03.702349Z",
     "iopub.status.idle": "2022-05-28T16:06:09.921466Z",
     "shell.execute_reply": "2022-05-28T16:06:09.920744Z",
     "shell.execute_reply.started": "2022-05-28T16:06:03.702759Z"
    },
    "tags": []
   },
   "outputs": [
    {
     "name": "stdout",
     "output_type": "stream",
     "text": [
      "LR classification accuracy: 0.9122807017543859\n"
     ]
    }
   ],
   "source": [
    "regressor = LogisticRegression(learning_rate=0.0001, n_iters=1000)\n",
    "regressor.fit(X_train, y_train)\n",
    "predictions = regressor.predict(X_test)\n",
    "\n",
    "print(\"LR classification accuracy:\", accuracy(y_test, predictions))"
   ]
  },
  {
   "cell_type": "code",
   "execution_count": null,
   "id": "f1d57f1d-76e8-4714-b223-8154edeae717",
   "metadata": {},
   "outputs": [],
   "source": []
  }
 ],
 "metadata": {
  "kernelspec": {
   "display_name": "Python 3 (ipykernel)",
   "language": "python",
   "name": "python3"
  },
  "language_info": {
   "codemirror_mode": {
    "name": "ipython",
    "version": 3
   },
   "file_extension": ".py",
   "mimetype": "text/x-python",
   "name": "python",
   "nbconvert_exporter": "python",
   "pygments_lexer": "ipython3",
   "version": "3.8.10"
  }
 },
 "nbformat": 4,
 "nbformat_minor": 5
}
