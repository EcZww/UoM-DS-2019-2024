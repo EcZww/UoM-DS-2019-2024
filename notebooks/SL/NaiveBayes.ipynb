{
 "cells": [
  {
   "cell_type": "markdown",
   "id": "161ec624-d3e7-4c94-a3ca-e4c287927e9a",
   "metadata": {},
   "source": [
    "### Naive Bayes"
   ]
  },
  {
   "cell_type": "code",
   "execution_count": 1,
   "id": "896d9a43-796a-4009-93d9-231a14c4e442",
   "metadata": {
    "execution": {
     "iopub.execute_input": "2022-05-29T06:23:36.651508Z",
     "iopub.status.busy": "2022-05-29T06:23:36.651056Z",
     "iopub.status.idle": "2022-05-29T06:23:36.773723Z",
     "shell.execute_reply": "2022-05-29T06:23:36.772373Z",
     "shell.execute_reply.started": "2022-05-29T06:23:36.651449Z"
    }
   },
   "outputs": [],
   "source": [
    "import numpy as np"
   ]
  },
  {
   "cell_type": "code",
   "execution_count": 11,
   "id": "d0cb981f-e9c6-4879-bced-97762b81ac10",
   "metadata": {
    "execution": {
     "iopub.execute_input": "2022-05-29T06:41:43.706647Z",
     "iopub.status.busy": "2022-05-29T06:41:43.706281Z",
     "iopub.status.idle": "2022-05-29T06:41:43.712919Z",
     "shell.execute_reply": "2022-05-29T06:41:43.712219Z",
     "shell.execute_reply.started": "2022-05-29T06:41:43.706624Z"
    },
    "tags": []
   },
   "outputs": [],
   "source": [
    "class NaiveBayes:\n",
    "    def fit(self, X, y):\n",
    "        n_samples, n_features = X.shape\n",
    "        self._classes = np.unique(y)\n",
    "        n_classes = len(self._classes)\n",
    "        \n",
    "        # calculate mean, var, and prior for each class\n",
    "        self._mean = np.zeros((n_classes, n_features), dtype=np.float64)\n",
    "        self._var = np.zeros((n_classes, n_features), dtype=np.float64)\n",
    "        self._priors = np.zeros(n_classes, dtype=np.float64)\n",
    "        \n",
    "        for idx, c in enumerate(self._classes):\n",
    "            X_c = X[y==c]\n",
    "            self._mean[idx,:] = X_c.mean(axis=0)\n",
    "            self._var[idx,:] = X_c.var(axis=0)\n",
    "            self._priors[idx] = X_c.shape[0] / float(n_samples)\n",
    "        \n",
    "    def predict(self, X):\n",
    "        y_pred = [self._predict(x) for x in X]\n",
    "        return np.array(y_pred)\n",
    "    \n",
    "    def _predict(self, x):\n",
    "        posteriors = []\n",
    "        \n",
    "        # calculate posterior probability for each class\n",
    "        for idx, c in enumerate(self._classes):\n",
    "            prior = np.log(self._priors[idx])\n",
    "            posterior = np.sum(np.log(self._pdf(idx,x)))\n",
    "            posterior = prior + posterior\n",
    "            posteriors.append(posterior)\n",
    "        \n",
    "        # return class with the highest posterior probability\n",
    "        return self._classes[np.argmax(posteriors)]\n",
    "    \n",
    "    def _pdf(self, class_idx, x):\n",
    "        mean = self._mean[class_idx]\n",
    "        var = self._var[class_idx]\n",
    "        numerator = np.exp(-(np.power((x-mean), 2)) / (2*var))\n",
    "        denominator = np.sqrt(2 * np.pi * var)\n",
    "        return numerator / denominator"
   ]
  },
  {
   "cell_type": "code",
   "execution_count": 12,
   "id": "ec29cef4-0330-4103-9da5-8f10542d7a62",
   "metadata": {
    "execution": {
     "iopub.execute_input": "2022-05-29T06:41:52.042466Z",
     "iopub.status.busy": "2022-05-29T06:41:52.042000Z",
     "iopub.status.idle": "2022-05-29T06:41:52.048426Z",
     "shell.execute_reply": "2022-05-29T06:41:52.047626Z",
     "shell.execute_reply.started": "2022-05-29T06:41:52.042446Z"
    },
    "tags": []
   },
   "outputs": [],
   "source": [
    "from sklearn.model_selection import train_test_split\n",
    "from sklearn import datasets\n",
    "\n",
    "from utils import *"
   ]
  },
  {
   "cell_type": "code",
   "execution_count": 13,
   "id": "e2968a10-8c4f-4b9e-900f-5bf4de0eba13",
   "metadata": {
    "execution": {
     "iopub.execute_input": "2022-05-29T06:42:05.210682Z",
     "iopub.status.busy": "2022-05-29T06:42:05.210265Z",
     "iopub.status.idle": "2022-05-29T06:42:05.227393Z",
     "shell.execute_reply": "2022-05-29T06:42:05.226442Z",
     "shell.execute_reply.started": "2022-05-29T06:42:05.210648Z"
    },
    "tags": []
   },
   "outputs": [
    {
     "name": "stdout",
     "output_type": "stream",
     "text": [
      "Naive Bayes classification accuracy 0.965\n"
     ]
    }
   ],
   "source": [
    "X, y = datasets.make_classification(n_samples=1000, n_features=10, n_classes=2, random_state=123)\n",
    "X_train, X_test, y_train, y_test = train_test_split(X, y, test_size=0.2, random_state=123)\n",
    "\n",
    "nb = NaiveBayes()\n",
    "nb.fit(X_train, y_train)\n",
    "predictions = nb.predict(X_test)\n",
    "\n",
    "print(\"Naive Bayes classification accuracy\", Evaluation.accuracy(y_test, predictions))"
   ]
  },
  {
   "cell_type": "code",
   "execution_count": null,
   "id": "0c1cd350-17c0-4af8-be62-71196dbfd8ee",
   "metadata": {},
   "outputs": [],
   "source": []
  }
 ],
 "metadata": {
  "kernelspec": {
   "display_name": "Python 3 (ipykernel)",
   "language": "python",
   "name": "python3"
  },
  "language_info": {
   "codemirror_mode": {
    "name": "ipython",
    "version": 3
   },
   "file_extension": ".py",
   "mimetype": "text/x-python",
   "name": "python",
   "nbconvert_exporter": "python",
   "pygments_lexer": "ipython3",
   "version": "3.8.10"
  }
 },
 "nbformat": 4,
 "nbformat_minor": 5
}
