{
 "cells": [
  {
   "cell_type": "code",
   "execution_count": 2,
   "id": "5aac51cf-a293-4fef-bc56-78a5c5c01ffc",
   "metadata": {
    "execution": {
     "iopub.execute_input": "2022-05-29T06:08:31.521819Z",
     "iopub.status.busy": "2022-05-29T06:08:31.521266Z",
     "iopub.status.idle": "2022-05-29T06:08:31.666342Z",
     "shell.execute_reply": "2022-05-29T06:08:31.665495Z",
     "shell.execute_reply.started": "2022-05-29T06:08:31.521792Z"
    },
    "tags": []
   },
   "outputs": [],
   "source": [
    "import numpy as np"
   ]
  },
  {
   "cell_type": "code",
   "execution_count": 4,
   "id": "1f000be5-aac6-4b66-85ed-595d1f51bb06",
   "metadata": {
    "execution": {
     "iopub.execute_input": "2022-05-29T06:15:50.471452Z",
     "iopub.status.busy": "2022-05-29T06:15:50.470954Z",
     "iopub.status.idle": "2022-05-29T06:15:50.474539Z",
     "shell.execute_reply": "2022-05-29T06:15:50.474009Z",
     "shell.execute_reply.started": "2022-05-29T06:15:50.471401Z"
    }
   },
   "outputs": [],
   "source": [
    "class NotImplementedError(Exception):\n",
    "    def __init__(self):\n",
    "        super().__init__(message=\"Function is not implemented yet!\")"
   ]
  },
  {
   "cell_type": "code",
   "execution_count": 3,
   "id": "de6fdc02-7d45-4c4f-9d67-91c262a70344",
   "metadata": {
    "execution": {
     "iopub.execute_input": "2022-05-29T06:13:36.154218Z",
     "iopub.status.busy": "2022-05-29T06:13:36.153797Z",
     "iopub.status.idle": "2022-05-29T06:13:36.159520Z",
     "shell.execute_reply": "2022-05-29T06:13:36.158899Z",
     "shell.execute_reply.started": "2022-05-29T06:13:36.154199Z"
    }
   },
   "outputs": [],
   "source": [
    "class BaseRegression:\n",
    "    def __init__(self, learning_rate: float = 0.001, n_iters: int = 1000):\n",
    "        # assign the variables\n",
    "        self.learning_rate = learning_rate\n",
    "        self.n_iters = n_iters\n",
    "        \n",
    "        # init weights and bias\n",
    "        self.weights, self.bias = None, None\n",
    "        \n",
    "    def fit(self, X, y):\n",
    "        # obtain data dimensions\n",
    "        n_samples, n_features = X.shape\n",
    "        \n",
    "        self.weights, self.bias = np.zeros(n_features), 0\n",
    "        \n",
    "        # Minimizing loss, and finding the correct weights and biases using gradient descent\n",
    "        for _ in range(self.n_iters):\n",
    "            y_predicted = self._approximation(X, self.weights, self.bias)\n",
    "            \n",
    "            dw = (1 / n_samples) * np.dot(X.T, (y_predicted - y))\n",
    "            db = (1 / n_samples) * np.sum(y_predicted - y)\n",
    "            \n",
    "            self.weights -= self.learning_rate * dw\n",
    "            self.bias -= self.learning_rate * db\n",
    "            \n",
    "    def predict(self, X):\n",
    "        return self._predict(X, self.weights, self.bias)\n",
    "    \n",
    "    def _predict(self, X, w, b):\n",
    "        raise NotImplementedError\n",
    "    \n",
    "    def _approximation(self, X, w, b):\n",
    "        raise NotImplementedError"
   ]
  },
  {
   "cell_type": "code",
   "execution_count": 11,
   "id": "ab084c2c-2c5d-44a5-a492-351fa4a47871",
   "metadata": {
    "execution": {
     "iopub.execute_input": "2022-05-29T06:20:55.702054Z",
     "iopub.status.busy": "2022-05-29T06:20:55.701728Z",
     "iopub.status.idle": "2022-05-29T06:20:55.705417Z",
     "shell.execute_reply": "2022-05-29T06:20:55.704909Z",
     "shell.execute_reply.started": "2022-05-29T06:20:55.702036Z"
    },
    "tags": []
   },
   "outputs": [],
   "source": [
    "class LinearRegression(BaseRegression):\n",
    "    def _approximation(self, X, w, b):\n",
    "        return np.dot(X, w) + b\n",
    "    \n",
    "    def _predict(self, X, w, b):\n",
    "        return np.dot(X, w) + b"
   ]
  },
  {
   "cell_type": "code",
   "execution_count": 20,
   "id": "f7ee1f14-c44d-4788-90ff-4471dc809ba7",
   "metadata": {
    "execution": {
     "iopub.execute_input": "2022-05-29T06:22:08.104862Z",
     "iopub.status.busy": "2022-05-29T06:22:08.104423Z",
     "iopub.status.idle": "2022-05-29T06:22:08.108545Z",
     "shell.execute_reply": "2022-05-29T06:22:08.108014Z",
     "shell.execute_reply.started": "2022-05-29T06:22:08.104843Z"
    },
    "tags": []
   },
   "outputs": [],
   "source": [
    "class LogisticRegression(BaseRegression):\n",
    "    def _approximation(self, X, w, b):\n",
    "        linear_model = np.dot(X, w) + b\n",
    "        return self._sigmoid(linear_model)\n",
    "\n",
    "    def _predict(self, X, w, b):\n",
    "        linear_model = np.dot(X, w) + b\n",
    "        y_predicted = self._sigmoid(linear_model)\n",
    "        y_predicted_cls = [1 if i > 0.5 else 0 for i in y_predicted]\n",
    "        return np.array(y_predicted_cls)\n",
    "    \n",
    "    def _sigmoid(self, x):\n",
    "        return 1 / (np.exp(-x) + 1)"
   ]
  },
  {
   "cell_type": "code",
   "execution_count": 22,
   "id": "f76dc8ba-c698-4f59-8c2c-d2f8b44e378b",
   "metadata": {
    "execution": {
     "iopub.execute_input": "2022-05-29T06:40:06.734691Z",
     "iopub.status.busy": "2022-05-29T06:40:06.734281Z",
     "iopub.status.idle": "2022-05-29T06:40:06.748452Z",
     "shell.execute_reply": "2022-05-29T06:40:06.747807Z",
     "shell.execute_reply.started": "2022-05-29T06:40:06.734672Z"
    },
    "tags": []
   },
   "outputs": [],
   "source": [
    "from sklearn.model_selection import train_test_split\n",
    "from sklearn import datasets\n",
    "\n",
    "from utils import *"
   ]
  },
  {
   "cell_type": "code",
   "execution_count": 23,
   "id": "0c9eb467-42c0-418f-9c66-3761a9b78f90",
   "metadata": {
    "execution": {
     "iopub.execute_input": "2022-05-29T06:40:13.948365Z",
     "iopub.status.busy": "2022-05-29T06:40:13.947959Z",
     "iopub.status.idle": "2022-05-29T06:40:13.965147Z",
     "shell.execute_reply": "2022-05-29T06:40:13.964563Z",
     "shell.execute_reply.started": "2022-05-29T06:40:13.948347Z"
    },
    "tags": []
   },
   "outputs": [
    {
     "name": "stdout",
     "output_type": "stream",
     "text": [
      "Linear reg Accuracy: 0.9253717934621964\n"
     ]
    }
   ],
   "source": [
    "# Linear Regression\n",
    "X, y = datasets.make_regression(\n",
    "    n_samples=100, n_features=1, noise=20, random_state=4\n",
    ")\n",
    "\n",
    "X_train, X_test, y_train, y_test = train_test_split(\n",
    "    X, y, test_size=0.2, random_state=1234\n",
    ")\n",
    "\n",
    "regressor = LinearRegression(learning_rate=0.01, n_iters=1000)\n",
    "regressor.fit(X_train, y_train)\n",
    "predictions = regressor.predict(X_test)\n",
    "\n",
    "accu = Evaluation.r2_score(y_test, predictions)\n",
    "print(\"Linear reg Accuracy:\", accu)"
   ]
  },
  {
   "cell_type": "code",
   "execution_count": 24,
   "id": "c729a94f-d316-4553-9d75-879b2a7a6311",
   "metadata": {
    "execution": {
     "iopub.execute_input": "2022-05-29T06:40:30.244438Z",
     "iopub.status.busy": "2022-05-29T06:40:30.243940Z",
     "iopub.status.idle": "2022-05-29T06:40:32.766275Z",
     "shell.execute_reply": "2022-05-29T06:40:32.766233Z",
     "shell.execute_reply.started": "2022-05-29T06:40:30.244420Z"
    },
    "tags": []
   },
   "outputs": [
    {
     "name": "stdout",
     "output_type": "stream",
     "text": [
      "Logistic reg classification accuracy: 0.9298245614035088\n"
     ]
    }
   ],
   "source": [
    "# Logistic reg\n",
    "bc = datasets.load_breast_cancer()\n",
    "X, y = bc.data, bc.target\n",
    "\n",
    "X_train, X_test, y_train, y_test = train_test_split(\n",
    "    X, y, test_size=0.2, random_state=1234\n",
    ")\n",
    "\n",
    "regressor = LogisticRegression(learning_rate=0.0001, n_iters=1000)\n",
    "regressor.fit(X_train, y_train)\n",
    "predictions = regressor.predict(X_test)\n",
    "\n",
    "print(\"Logistic reg classification accuracy:\", Evaluation.accuracy(y_test, predictions))"
   ]
  },
  {
   "cell_type": "code",
   "execution_count": null,
   "id": "0e276bbc-5bed-4bcc-93ac-94e00970c51d",
   "metadata": {},
   "outputs": [],
   "source": []
  }
 ],
 "metadata": {
  "kernelspec": {
   "display_name": "Python 3 (ipykernel)",
   "language": "python",
   "name": "python3"
  },
  "language_info": {
   "codemirror_mode": {
    "name": "ipython",
    "version": 3
   },
   "file_extension": ".py",
   "mimetype": "text/x-python",
   "name": "python",
   "nbconvert_exporter": "python",
   "pygments_lexer": "ipython3",
   "version": "3.8.10"
  }
 },
 "nbformat": 4,
 "nbformat_minor": 5
}
